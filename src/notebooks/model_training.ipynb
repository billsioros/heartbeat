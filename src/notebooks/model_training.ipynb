{
 "cells": [
  {
   "cell_type": "markdown",
   "metadata": {},
   "source": [
    "# Model Training & Selection\n",
    "\n",
    "**Context**\n",
    "\n",
    "Cardiovascular diseases (CVDs) are the number 1 cause of death globally, taking an estimated 17.9 million lives each year, which accounts for 31% of all deaths worldwide. Four out of 5CVD deaths are due to heart attacks and strokes, and one-third of these deaths occur prematurely in people under 70 years of age. Heart failure is a common event caused by CVDs and this dataset contains 11 features that can be used to predict a possible heart disease.\n",
    "\n",
    "People with cardiovascular disease or who are at high cardiovascular risk (due to the presence of one or more risk factors such as hypertension, diabetes, hyperlipidaemia or already established disease) need early detection and management wherein a machine learning model can be of great help.\n",
    "\n",
    "**Attribute Information**\n",
    "\n",
    "- Age: age of the patient [years]\n",
    "- Sex: sex of the patient [M: Male, F: Female]\n",
    "- ChestPainType: chest pain type [TA: Typical Angina, ATA: Atypical Angina, NAP: Non-Anginal Pain, ASY: Asymptomatic]\n",
    "- RestingBP: resting blood pressure [mm Hg]\n",
    "- Cholesterol: serum cholesterol [mm/dl]\n",
    "- FastingBS: fasting blood sugar [1: if FastingBS > 120 mg/dl, 0: otherwise]\n",
    "- RestingECG: resting electrocardiogram results [Normal: Normal, ST: having ST-T wave abnormality (T wave inversions and/or ST elevation or depression of > 0.05 mV), LVH: showing probable or definite left ventricular hypertrophy by Estes' criteria]\n",
    "- MaxHR: maximum heart rate achieved [Numeric value between 60 and 202]\n",
    "- ExerciseAngina: exercise-induced angina [Y: Yes, N: No]\n",
    "- Oldpeak: oldpeak = ST [Numeric value measured in depression]\n",
    "- ST_Slope: the slope of the peak exercise ST segment [Up: upsloping, Flat: flat, Down: downsloping]\n",
    "- HeartDisease: output class [1: heart disease, 0: Normal]\n",
    "\n",
    "> Source: [https://www.kaggle.com/datasets/fedesoriano/heart-failure-prediction](https://www.kaggle.com/datasets/fedesoriano/heart-failure-prediction)"
   ]
  },
  {
   "cell_type": "code",
   "execution_count": 1,
   "metadata": {},
   "outputs": [],
   "source": [
    "from pathlib import Path\n",
    "import pandas as pd\n",
    "import joblib\n",
    "import seaborn as sns\n",
    "import matplotlib.pyplot as plt\n",
    "from sklearn.metrics import classification_report, confusion_matrix\n",
    "from enum import IntEnum, auto\n",
    "from sklearn.model_selection import RandomizedSearchCV, train_test_split, cross_validate\n",
    "from sklearn.ensemble import RandomForestClassifier\n",
    "from xgboost import XGBClassifier\n",
    "from sklearn.pipeline import Pipeline\n",
    "from sklearn.compose import ColumnTransformer\n",
    "from sklearn.preprocessing import RobustScaler, OneHotEncoder\n",
    "from sklearn.svm import SVC\n",
    "from tqdm.notebook import tqdm\n",
    "\n",
    "RANDOM_SEED = 42"
   ]
  },
  {
   "cell_type": "markdown",
   "metadata": {},
   "source": [
    "## Overview\n",
    "\n",
    "Our Exploratory Data Analysis (EDA) revealed the following:\n",
    "\n",
    "- The dataset is balanced and contains no missing values, eliminating the need for imputation, row deletion, or oversampling.\n",
    "- We had to exclude `RestingECG`, `RestingBP`, and `Cholesterol` from our analysis as they do not contribute meaningful information for predicting heart disease."
   ]
  },
  {
   "cell_type": "code",
   "execution_count": 2,
   "metadata": {},
   "outputs": [
    {
     "data": {
      "text/html": [
       "<div>\n",
       "<style scoped>\n",
       "    .dataframe tbody tr th:only-of-type {\n",
       "        vertical-align: middle;\n",
       "    }\n",
       "\n",
       "    .dataframe tbody tr th {\n",
       "        vertical-align: top;\n",
       "    }\n",
       "\n",
       "    .dataframe thead th {\n",
       "        text-align: right;\n",
       "    }\n",
       "</style>\n",
       "<table border=\"1\" class=\"dataframe\">\n",
       "  <thead>\n",
       "    <tr style=\"text-align: right;\">\n",
       "      <th></th>\n",
       "      <th>Age</th>\n",
       "      <th>Sex</th>\n",
       "      <th>ChestPain</th>\n",
       "      <th>FastingBS</th>\n",
       "      <th>MaxHR</th>\n",
       "      <th>ExerciseAngina</th>\n",
       "      <th>Oldpeak</th>\n",
       "      <th>ST_Slope</th>\n",
       "      <th>HeartDisease</th>\n",
       "    </tr>\n",
       "  </thead>\n",
       "  <tbody>\n",
       "    <tr>\n",
       "      <th>0</th>\n",
       "      <td>40</td>\n",
       "      <td>M</td>\n",
       "      <td>ATA</td>\n",
       "      <td>0</td>\n",
       "      <td>172</td>\n",
       "      <td>N</td>\n",
       "      <td>0.0</td>\n",
       "      <td>Up</td>\n",
       "      <td>0</td>\n",
       "    </tr>\n",
       "    <tr>\n",
       "      <th>1</th>\n",
       "      <td>49</td>\n",
       "      <td>F</td>\n",
       "      <td>NAP</td>\n",
       "      <td>0</td>\n",
       "      <td>156</td>\n",
       "      <td>N</td>\n",
       "      <td>1.0</td>\n",
       "      <td>Flat</td>\n",
       "      <td>1</td>\n",
       "    </tr>\n",
       "    <tr>\n",
       "      <th>2</th>\n",
       "      <td>37</td>\n",
       "      <td>M</td>\n",
       "      <td>ATA</td>\n",
       "      <td>0</td>\n",
       "      <td>98</td>\n",
       "      <td>N</td>\n",
       "      <td>0.0</td>\n",
       "      <td>Up</td>\n",
       "      <td>0</td>\n",
       "    </tr>\n",
       "    <tr>\n",
       "      <th>3</th>\n",
       "      <td>48</td>\n",
       "      <td>F</td>\n",
       "      <td>ASY</td>\n",
       "      <td>0</td>\n",
       "      <td>108</td>\n",
       "      <td>Y</td>\n",
       "      <td>1.5</td>\n",
       "      <td>Flat</td>\n",
       "      <td>1</td>\n",
       "    </tr>\n",
       "    <tr>\n",
       "      <th>4</th>\n",
       "      <td>54</td>\n",
       "      <td>M</td>\n",
       "      <td>NAP</td>\n",
       "      <td>0</td>\n",
       "      <td>122</td>\n",
       "      <td>N</td>\n",
       "      <td>0.0</td>\n",
       "      <td>Up</td>\n",
       "      <td>0</td>\n",
       "    </tr>\n",
       "  </tbody>\n",
       "</table>\n",
       "</div>"
      ],
      "text/plain": [
       "   Age Sex ChestPain  FastingBS  MaxHR ExerciseAngina  Oldpeak ST_Slope  \\\n",
       "0   40   M       ATA          0    172              N      0.0       Up   \n",
       "1   49   F       NAP          0    156              N      1.0     Flat   \n",
       "2   37   M       ATA          0     98              N      0.0       Up   \n",
       "3   48   F       ASY          0    108              Y      1.5     Flat   \n",
       "4   54   M       NAP          0    122              N      0.0       Up   \n",
       "\n",
       "   HeartDisease  \n",
       "0             0  \n",
       "1             1  \n",
       "2             0  \n",
       "3             1  \n",
       "4             0  "
      ]
     },
     "execution_count": 2,
     "metadata": {},
     "output_type": "execute_result"
    }
   ],
   "source": [
    "df = pd.read_csv(Path.cwd() / \"heart_processed.csv\")\n",
    "df.head()"
   ]
  },
  {
   "cell_type": "markdown",
   "metadata": {},
   "source": [
    "Before we proceed, we need to encode our categorical features. Instead of using [`LabelEncoder`](https://scikit-learn.org/stable/modules/generated/sklearn.preprocessing.LabelEncoder.html), we'll handle this process manually to ensure compatibility with our backend REST API."
   ]
  },
  {
   "cell_type": "code",
   "execution_count": 3,
   "metadata": {},
   "outputs": [],
   "source": [
    "class Sex(IntEnum):\n",
    "    MALE = auto()\n",
    "    FEMALE = auto()\n",
    "\n",
    "\n",
    "class ChestPain(IntEnum):\n",
    "    TYPICAL_ANGINA = auto()\n",
    "    ATYPICAL_ANGINA = auto()\n",
    "    NON_ANGINAL_PAIN = auto()\n",
    "    ASYMPTOMATIC = auto()\n",
    "\n",
    "\n",
    "class StSlope(IntEnum):\n",
    "    UP = auto()\n",
    "    FLAT = auto()\n",
    "    DOWN = auto()\n"
   ]
  },
  {
   "cell_type": "code",
   "execution_count": 4,
   "metadata": {},
   "outputs": [
    {
     "data": {
      "text/html": [
       "<div>\n",
       "<style scoped>\n",
       "    .dataframe tbody tr th:only-of-type {\n",
       "        vertical-align: middle;\n",
       "    }\n",
       "\n",
       "    .dataframe tbody tr th {\n",
       "        vertical-align: top;\n",
       "    }\n",
       "\n",
       "    .dataframe thead th {\n",
       "        text-align: right;\n",
       "    }\n",
       "</style>\n",
       "<table border=\"1\" class=\"dataframe\">\n",
       "  <thead>\n",
       "    <tr style=\"text-align: right;\">\n",
       "      <th></th>\n",
       "      <th>Age</th>\n",
       "      <th>Sex</th>\n",
       "      <th>ChestPain</th>\n",
       "      <th>FastingBS</th>\n",
       "      <th>MaxHR</th>\n",
       "      <th>ExerciseAngina</th>\n",
       "      <th>Oldpeak</th>\n",
       "      <th>ST_Slope</th>\n",
       "      <th>HeartDisease</th>\n",
       "    </tr>\n",
       "  </thead>\n",
       "  <tbody>\n",
       "    <tr>\n",
       "      <th>0</th>\n",
       "      <td>40</td>\n",
       "      <td>1</td>\n",
       "      <td>2</td>\n",
       "      <td>0</td>\n",
       "      <td>172</td>\n",
       "      <td>False</td>\n",
       "      <td>0.0</td>\n",
       "      <td>1</td>\n",
       "      <td>0</td>\n",
       "    </tr>\n",
       "    <tr>\n",
       "      <th>1</th>\n",
       "      <td>49</td>\n",
       "      <td>2</td>\n",
       "      <td>3</td>\n",
       "      <td>0</td>\n",
       "      <td>156</td>\n",
       "      <td>False</td>\n",
       "      <td>1.0</td>\n",
       "      <td>2</td>\n",
       "      <td>1</td>\n",
       "    </tr>\n",
       "    <tr>\n",
       "      <th>2</th>\n",
       "      <td>37</td>\n",
       "      <td>1</td>\n",
       "      <td>2</td>\n",
       "      <td>0</td>\n",
       "      <td>98</td>\n",
       "      <td>False</td>\n",
       "      <td>0.0</td>\n",
       "      <td>1</td>\n",
       "      <td>0</td>\n",
       "    </tr>\n",
       "    <tr>\n",
       "      <th>3</th>\n",
       "      <td>48</td>\n",
       "      <td>2</td>\n",
       "      <td>4</td>\n",
       "      <td>0</td>\n",
       "      <td>108</td>\n",
       "      <td>True</td>\n",
       "      <td>1.5</td>\n",
       "      <td>2</td>\n",
       "      <td>1</td>\n",
       "    </tr>\n",
       "    <tr>\n",
       "      <th>4</th>\n",
       "      <td>54</td>\n",
       "      <td>1</td>\n",
       "      <td>3</td>\n",
       "      <td>0</td>\n",
       "      <td>122</td>\n",
       "      <td>False</td>\n",
       "      <td>0.0</td>\n",
       "      <td>1</td>\n",
       "      <td>0</td>\n",
       "    </tr>\n",
       "  </tbody>\n",
       "</table>\n",
       "</div>"
      ],
      "text/plain": [
       "   Age  Sex  ChestPain  FastingBS  MaxHR  ExerciseAngina  Oldpeak  ST_Slope  \\\n",
       "0   40    1          2          0    172           False      0.0         1   \n",
       "1   49    2          3          0    156           False      1.0         2   \n",
       "2   37    1          2          0     98           False      0.0         1   \n",
       "3   48    2          4          0    108            True      1.5         2   \n",
       "4   54    1          3          0    122           False      0.0         1   \n",
       "\n",
       "   HeartDisease  \n",
       "0             0  \n",
       "1             1  \n",
       "2             0  \n",
       "3             1  \n",
       "4             0  "
      ]
     },
     "execution_count": 4,
     "metadata": {},
     "output_type": "execute_result"
    }
   ],
   "source": [
    "df['Sex'] = df['Sex'].map({'M': Sex.MALE, 'F': Sex.FEMALE})\n",
    "df['ChestPain'] = df['ChestPain'].map({'ATA': ChestPain.ATYPICAL_ANGINA, 'NAP': ChestPain.NON_ANGINAL_PAIN, 'ASY': ChestPain.ASYMPTOMATIC, 'TA': ChestPain.TYPICAL_ANGINA})\n",
    "df['ST_Slope'] = df['ST_Slope'].map({'Up': StSlope.UP, 'Flat': StSlope.FLAT, 'Down': StSlope.DOWN})\n",
    "df['ExerciseAngina'] = df['ExerciseAngina'].map({'Y': True, 'N': False})\n",
    "df.head()"
   ]
  },
  {
   "cell_type": "markdown",
   "metadata": {},
   "source": [
    "## Action Plan\n",
    "\n",
    "Based on our exploratory data analysis (EDA), we have already drawn the following conclusions:\n",
    "\n",
    "- We will [OneHotEncoder](https://scikit-learn.org/stable/modules/generated/sklearn.preprocessing.OneHotEncoder.html) to encode our categorical features.\n",
    "- Numerical features are not normally distributed and contain outliers. To address this we will employ [RobustScaler](https://scikit-learn.org/stable/modules/generated/sklearn.preprocessing.RobustScaler.html).\n",
    "- We will only consider models that are robust to multicollinearity. Our candidate models will be [`SVC`](https://scikit-learn.org/stable/modules/svm.html), [`RandomForestClassifier`](https://scikit-learn.org/stable/modules/generated/sklearn.ensemble.RandomForestClassifier.html) and [`XGBoost`](https://xgboost.readthedocs.io/en/stable/)."
   ]
  },
  {
   "cell_type": "code",
   "execution_count": 5,
   "metadata": {},
   "outputs": [],
   "source": [
    "class ModelChoice(IntEnum):\n",
    "    SVC = auto()\n",
    "    RANDOM_FOREST = auto()\n",
    "    XGB = auto()\n",
    "\n",
    "\n",
    "def create_pipeline(model_choice: ModelChoice, random_state: int = RANDOM_SEED):\n",
    "    target_variable = \"HeartDisease\"\n",
    "    categorical_features = [\"Sex\", \"ChestPain\", \"FastingBS\", \"ExerciseAngina\", \"ST_Slope\"]\n",
    "    numerical_features = list(set(df.columns).difference([target_variable, \"RestingBP\", \"Cholesterol\", *categorical_features]))\n",
    "\n",
    "    categorical_transformer = Pipeline(steps=[\n",
    "        ('onehot', OneHotEncoder(handle_unknown='ignore'))\n",
    "    ])\n",
    "\n",
    "    numerical_transformer = Pipeline(steps=[\n",
    "        ('scaler', RobustScaler())\n",
    "    ])\n",
    "\n",
    "    preprocessor = ColumnTransformer(\n",
    "        transformers=[\n",
    "            ('num', numerical_transformer, numerical_features),\n",
    "            ('cat', categorical_transformer, categorical_features)\n",
    "        ])\n",
    "\n",
    "    if model_choice == ModelChoice.SVC:\n",
    "        model = SVC(random_state=random_state)\n",
    "    elif model_choice == ModelChoice.RANDOM_FOREST:\n",
    "        model = RandomForestClassifier(random_state=random_state)\n",
    "    elif model_choice == ModelChoice.XGB:\n",
    "        model = XGBClassifier(random_state=random_state)\n",
    "    else:\n",
    "        raise ValueError(\"Invalid model choice\")\n",
    "\n",
    "    pipeline = Pipeline(steps=[\n",
    "        ('preprocessor', preprocessor),\n",
    "        ('classifier', model)\n",
    "    ])\n",
    "\n",
    "    return pipeline\n"
   ]
  },
  {
   "cell_type": "markdown",
   "metadata": {},
   "source": [
    "## Spiting our Dataset\n",
    "\n",
    "Before proceeding, we need to split our dataset to ensure that our evaluation is conducted on unseen data. We’ll use the [`train_test_split`](https://scikit-learn.org/stable/modules/generated/sklearn.model_selection.train_test_split.html) function for this task. Specifically, we’ll allocate 80% of the data for training and reserve 20% for evaluation."
   ]
  },
  {
   "cell_type": "code",
   "execution_count": 6,
   "metadata": {},
   "outputs": [],
   "source": [
    "X, y = df.drop(\"HeartDisease\", axis=1), df[\"HeartDisease\"]\n",
    "\n",
    "X_train, X_test, y_train, y_test = train_test_split(X, y, test_size=0.2, random_state=RANDOM_SEED)"
   ]
  },
  {
   "cell_type": "markdown",
   "metadata": {},
   "source": [
    "## Hyperparameter Tuning\n",
    "\n",
    "We'll use [`RandomizedSearchCV`](https://scikit-learn.org/stable/modules/generated/sklearn.model_selection.RandomizedSearchCV.html) to identify the optimal hyperparameters for our model. Unlike [`GridSearchCV`](https://scikit-learn.org/stable/modules/generated/sklearn.model_selection.GridSearchCV.html), which exhaustively tests all possible hyperparameter combinations, `RandomizedSearchCV` samples from the hyperparameter space at random. This approach can be more efficient and faster, especially when dealing with a large number of hyperparameters."
   ]
  },
  {
   "cell_type": "code",
   "execution_count": 7,
   "metadata": {},
   "outputs": [],
   "source": [
    "def grid_search(\n",
    "        model_choice: ModelChoice,\n",
    "        X: pd.DataFrame,\n",
    "        y: pd.Series,\n",
    "        param_distributions: dict,\n",
    "        random_state: int = RANDOM_SEED\n",
    ") -> dict:\n",
    "    pipeline = create_pipeline(model_choice)\n",
    "\n",
    "    grid = RandomizedSearchCV(\n",
    "        pipeline,\n",
    "        param_distributions=param_distributions,\n",
    "        n_iter=100,\n",
    "        scoring='f1',\n",
    "        cv=5,\n",
    "        verbose=0,\n",
    "        random_state=random_state,\n",
    "        n_jobs=-1\n",
    "    )\n",
    "\n",
    "    return grid.fit(X, y).best_params_"
   ]
  },
  {
   "cell_type": "code",
   "execution_count": 8,
   "metadata": {},
   "outputs": [
    {
     "data": {
      "application/vnd.jupyter.widget-view+json": {
       "model_id": "f36c244d89644289bf3246500c0bd111",
       "version_major": 2,
       "version_minor": 0
      },
      "text/plain": [
       "  0%|          | 0/3 [00:00<?, ?it/s]"
      ]
     },
     "metadata": {},
     "output_type": "display_data"
    },
    {
     "name": "stderr",
     "output_type": "stream",
     "text": [
      "/root/.cache/pypoetry/virtualenvs/heartbeat-zDt5Y6Lp-py3.11/lib/python3.11/site-packages/sklearn/model_selection/_search.py:320: UserWarning: The total space of parameters 24 is smaller than n_iter=100. Running 24 iterations. For exhaustive searches, use GridSearchCV.\n",
      "  warnings.warn(\n"
     ]
    }
   ],
   "source": [
    "param_dist = {\n",
    "    ModelChoice.SVC: {\n",
    "        'classifier__C': [0.1, 1, 10],\n",
    "        'classifier__kernel': ['rbf', 'sigmoid'],\n",
    "        'classifier__gamma': ['scale', 'auto'],\n",
    "        'classifier__class_weight': [None, 'balanced']\n",
    "    },\n",
    "    ModelChoice.RANDOM_FOREST: {\n",
    "        'classifier__n_estimators': [100, 200, 300, 400, 500],\n",
    "        'classifier__max_depth': [None, 10, 20, 30, 40, 50],\n",
    "        'classifier__min_samples_split': [2, 5, 10],\n",
    "        'classifier__min_samples_leaf': [1, 2, 4],\n",
    "        'classifier__bootstrap': [True, False]\n",
    "    },\n",
    "    ModelChoice.XGB: {\n",
    "        'classifier__n_estimators': [100, 200, 300, 400, 500],\n",
    "        'classifier__learning_rate': [0.01, 0.05, 0.1, 0.2, 0.3],\n",
    "        'classifier__max_depth': [3, 4, 5, 6, 7, 8],\n",
    "        'classifier__reg_alpha': [0, 0.1, 0.2, 0.3, 0.4],\n",
    "        'classifier__reg_lambda': [0, 0.1, 0.2, 0.3, 0.4]\n",
    "    }\n",
    "}\n",
    "\n",
    "best_params = {}\n",
    "for model_choice in tqdm(ModelChoice):\n",
    "    params = grid_search(model_choice, X_train, y_train, param_dist[model_choice])\n",
    "    best_params[model_choice] = params"
   ]
  },
  {
   "cell_type": "markdown",
   "metadata": {},
   "source": [
    "## Evaluating our Model Candidates\n",
    "\n",
    "To assess our model candidates, we'll employ 5-fold cross-validation and evaluate their performance using accuracy, precision, recall, and F1 score.\n",
    "\n",
    "> To this end, we'll use [`cross_validate`](https://scikit-learn.org/stable/modules/generated/sklearn.model_selection.cross_validate.html)."
   ]
  },
  {
   "cell_type": "code",
   "execution_count": 9,
   "metadata": {},
   "outputs": [
    {
     "data": {
      "application/vnd.jupyter.widget-view+json": {
       "model_id": "8c9989ba643545c891065a41d2b617a7",
       "version_major": 2,
       "version_minor": 0
      },
      "text/plain": [
       "  0%|          | 0/3 [00:00<?, ?it/s]"
      ]
     },
     "metadata": {},
     "output_type": "display_data"
    }
   ],
   "source": [
    "metrics = ['accuracy', 'precision', 'recall', 'f1']\n",
    "\n",
    "results = {}\n",
    "for model_choice in tqdm(ModelChoice):\n",
    "    model_name = model_choice.name.replace(\"_\", \" \")\n",
    "    if model_choice == ModelChoice.RANDOM_FOREST:\n",
    "        model_name = model_name.title()\n",
    "\n",
    "    results[model_name] = {}\n",
    "    pipeline = create_pipeline(model_choice, random_state=RANDOM_SEED)\n",
    "    pipeline = pipeline.set_params(**best_params[model_choice])\n",
    "\n",
    "    result = cross_validate(pipeline, X_train, y_train, cv=5, scoring=metrics)\n",
    "    for metric in metrics:\n",
    "        values = result[f'test_{metric}']\n",
    "        mean = values.mean()\n",
    "        std = values.std()\n",
    "\n",
    "        results[model_name][metric.title()] = f\"{mean * 100:.3f} +/- {std * 100:.3f}\""
   ]
  },
  {
   "cell_type": "code",
   "execution_count": 10,
   "metadata": {},
   "outputs": [
    {
     "data": {
      "text/html": [
       "<div>\n",
       "<style scoped>\n",
       "    .dataframe tbody tr th:only-of-type {\n",
       "        vertical-align: middle;\n",
       "    }\n",
       "\n",
       "    .dataframe tbody tr th {\n",
       "        vertical-align: top;\n",
       "    }\n",
       "\n",
       "    .dataframe thead th {\n",
       "        text-align: right;\n",
       "    }\n",
       "</style>\n",
       "<table border=\"1\" class=\"dataframe\">\n",
       "  <thead>\n",
       "    <tr style=\"text-align: right;\">\n",
       "      <th></th>\n",
       "      <th>Accuracy</th>\n",
       "      <th>Precision</th>\n",
       "      <th>Recall</th>\n",
       "      <th>F1</th>\n",
       "    </tr>\n",
       "  </thead>\n",
       "  <tbody>\n",
       "    <tr>\n",
       "      <th>SVC</th>\n",
       "      <td>86.918 +/- 1.480</td>\n",
       "      <td>85.830 +/- 2.698</td>\n",
       "      <td>91.269 +/- 1.139</td>\n",
       "      <td>88.427 +/- 1.053</td>\n",
       "    </tr>\n",
       "    <tr>\n",
       "      <th>Random Forest</th>\n",
       "      <td>86.916 +/- 2.117</td>\n",
       "      <td>85.661 +/- 3.010</td>\n",
       "      <td>91.519 +/- 1.240</td>\n",
       "      <td>88.460 +/- 1.653</td>\n",
       "    </tr>\n",
       "    <tr>\n",
       "      <th>XGB</th>\n",
       "      <td>86.106 +/- 2.732</td>\n",
       "      <td>85.889 +/- 2.574</td>\n",
       "      <td>89.287 +/- 2.969</td>\n",
       "      <td>87.536 +/- 2.432</td>\n",
       "    </tr>\n",
       "  </tbody>\n",
       "</table>\n",
       "</div>"
      ],
      "text/plain": [
       "                       Accuracy         Precision            Recall  \\\n",
       "SVC            86.918 +/- 1.480  85.830 +/- 2.698  91.269 +/- 1.139   \n",
       "Random Forest  86.916 +/- 2.117  85.661 +/- 3.010  91.519 +/- 1.240   \n",
       "XGB            86.106 +/- 2.732  85.889 +/- 2.574  89.287 +/- 2.969   \n",
       "\n",
       "                             F1  \n",
       "SVC            88.427 +/- 1.053  \n",
       "Random Forest  88.460 +/- 1.653  \n",
       "XGB            87.536 +/- 2.432  "
      ]
     },
     "execution_count": 10,
     "metadata": {},
     "output_type": "execute_result"
    }
   ],
   "source": [
    "pd.DataFrame(results).T"
   ]
  },
  {
   "cell_type": "markdown",
   "metadata": {},
   "source": [
    "In developing our heart disease prediction app, where missing a case is critical, we prioritize recall. `XGBoost` showcases the lowest recall value, so we don't consider it any further.\n",
    "\n",
    "`RandomForestClassifier` has the highest recall, and its accuracy and F1 score are similar to those of `SVC`.\n",
    "\n",
    "> Therefore, `RandomForestClassifier` is the best choice for our model."
   ]
  },
  {
   "cell_type": "markdown",
   "metadata": {},
   "source": [
    "## Testing our Model"
   ]
  },
  {
   "cell_type": "code",
   "execution_count": 11,
   "metadata": {},
   "outputs": [
    {
     "name": "stdout",
     "output_type": "stream",
     "text": [
      "              precision    recall  f1-score   support\n",
      "\n",
      "           0       0.75      0.86      0.80        77\n",
      "           1       0.89      0.79      0.84       107\n",
      "\n",
      "    accuracy                           0.82       184\n",
      "   macro avg       0.82      0.83      0.82       184\n",
      "weighted avg       0.83      0.82      0.82       184\n",
      "\n"
     ]
    }
   ],
   "source": [
    "pipeline = create_pipeline(model_choice, random_state=RANDOM_SEED)\n",
    "pipeline = pipeline.set_params(**best_params[model_choice])\n",
    "\n",
    "pipeline.fit(X_train, y_train)\n",
    "\n",
    "y_pred = pipeline.predict(X_test)\n",
    "print(classification_report(y_test, y_pred))"
   ]
  },
  {
   "cell_type": "markdown",
   "metadata": {},
   "source": [
    "Our model performs well on new data, showing a good balance across evaluation metrics. The confusion matrix below confirms this, indicating that most samples are classified correctly with only a few false negatives."
   ]
  },
  {
   "cell_type": "code",
   "execution_count": 33,
   "metadata": {},
   "outputs": [
    {
     "data": {
      "image/png": "[encoded data removed]",
      "text/plain": [
       "<Figure size 800x600 with 2 Axes>"
      ]
     },
     "metadata": {},
     "output_type": "display_data"
    }
   ],
   "source": [
    "plt.figure(figsize=(8, 6))\n",
    "sns.heatmap(\n",
    "    confusion_matrix(y_test, y_pred), annot=True, fmt='d', cmap='Blues',\n",
    "    cbar=True, square=True,\n",
    "    xticklabels=['No Heart Disease', 'Heart Disease'],\n",
    "    yticklabels=['No Heart Disease', 'Heart Disease']\n",
    ")\n",
    "\n",
    "plt.xlabel('Predicted Label')\n",
    "plt.ylabel('True Label')\n",
    "plt.show()"
   ]
  },
  {
   "cell_type": "markdown",
   "metadata": {},
   "source": [
    "## Using & Saving Our Model\n",
    "\n",
    "Our model can be used to make predictions with the following code:"
   ]
  },
  {
   "cell_type": "code",
   "execution_count": 34,
   "metadata": {},
   "outputs": [
    {
     "data": {
      "text/plain": [
       "np.int64(1)"
      ]
     },
     "execution_count": 34,
     "metadata": {},
     "output_type": "execute_result"
    }
   ],
   "source": [
    "payload = {\n",
    "    \"Age\": 20,\n",
    "    \"Sex\": Sex.MALE,\n",
    "    \"ChestPain\": ChestPain.ASYMPTOMATIC,\n",
    "    \"FastingBS\": True,\n",
    "    \"MaxHR\": 60,\n",
    "    \"ExerciseAngina\": True,\n",
    "    \"Oldpeak\": 0.0,\n",
    "    \"ST_Slope\": StSlope.DOWN,\n",
    "}\n",
    "\n",
    "pipeline.predict(pd.DataFrame([payload]))[0]"
   ]
  },
  {
   "cell_type": "markdown",
   "metadata": {},
   "source": [
    "We use [`joblib`](https://scikit-learn.org/stable/modules/model_persistence.html) to save our model for future use in our application."
   ]
  },
  {
   "cell_type": "code",
   "execution_count": 35,
   "metadata": {},
   "outputs": [
    {
     "data": {
      "text/plain": [
       "['/mnt/c/Users/bills/Desktop/heartbeat/src/notebooks/model.joblib']"
      ]
     },
     "execution_count": 35,
     "metadata": {},
     "output_type": "execute_result"
    }
   ],
   "source": [
    "joblib.dump(pipeline, Path.cwd() / \"model.joblib\")"
   ]
  }
 ],
 "metadata": {
  "kernelspec": {
   "display_name": "heartbeat-zDt5Y6Lp-py3.11",
   "language": "python",
   "name": "python3"
  },
  "language_info": {
   "codemirror_mode": {
    "name": "ipython",
    "version": 3
   },
   "file_extension": ".py",
   "mimetype": "text/x-python",
   "name": "python",
   "nbconvert_exporter": "python",
   "pygments_lexer": "ipython3",
   "version": "3.11.4"
  }
 },
 "nbformat": 4,
 "nbformat_minor": 2
}
